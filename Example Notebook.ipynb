{
 "cells": [
  {
   "cell_type": "code",
   "execution_count": 11,
   "metadata": {
    "collapsed": false
   },
   "outputs": [],
   "source": [
    "import numpy as np\n",
    "import matplotlib.pyplot\n",
    "import sample_distribution as sd\n",
    "import matplotlib.pyplot as plt"
   ]
  },
  {
   "cell_type": "markdown",
   "metadata": {},
   "source": [
    "## Introduction\n",
    "\n",
    "The purpose of the package that we have written, is to generate random samples from an arbitrary function $f(x)$ defined on the interval $[a,b]$. Such that it is normalized on the interval, ie,\n",
    "\n",
    "$ \\int_a^b f(x) dx = 1$.\n",
    "\n",
    "In order to accomplish this, we employ here the method of inverting the cumulative distribution function. The cummulative distribution function of $f(x)$ is defined as\n",
    "\n",
    "\n",
    "$F_{X}(x)= \\int_a^x f(y) dy$.\n",
    "\n",
    "The inverse of this function is denoted as\n",
    "\n",
    "$y = F^{-1}(x)$.\n",
    "\n",
    "\n",
    "## Algorithm\n",
    "1. Draw the number $u$, from a uniform random distribution on  $[0,1]$\n",
    "2. Determine $y_u$ such that  $ F(y_u) = u$.\n",
    "3. $y_u$ is then a random sample with the distribution  $f(x)$\n",
    "\n"
   ]
  },
  {
   "cell_type": "code",
   "execution_count": 29,
   "metadata": {
    "collapsed": true
   },
   "outputs": [],
   "source": [
    "#-----------------------------------------------------------------------\n",
    "# We define the target probability distribution that we want to sample\n",
    "#-----------------------------------------------------------------------\n",
    "def f(x):\n",
    "    #return x*np.exp(-50*(x-0.2)**2)+np.exp(-60*(x-0.6)**2)\n",
    "    return np.exp(-x**2)*x*x"
   ]
  },
  {
   "cell_type": "code",
   "execution_count": 30,
   "metadata": {
    "collapsed": false
   },
   "outputs": [],
   "source": [
    "#-----------------------------------------------------------------------\n",
    "# We define the target probability distribution that we want to sample\n",
    "#-----------------------------------------------------------------------\n",
    "a0 = 0.0\n",
    "b0 = 1.0\n",
    "N_samples = 8000\n",
    "\n",
    "dist = sd.arbitrary_distribution(f,a0,b0) # Initialize the Class\n",
    "a = dist.draw_samples(N_samples) # Draw N number of samples from our target distribution"
   ]
  },
  {
   "cell_type": "code",
   "execution_count": 31,
   "metadata": {
    "collapsed": false
   },
   "outputs": [
    {
     "data": {
      "image/png": "[encoded data removed]",
      "text/plain": [
       "<matplotlib.figure.Figure at 0x7f5cc013c390>"
      ]
     },
     "metadata": {},
     "output_type": "display_data"
    }
   ],
   "source": [
    "#-----------------------------------------------------------------------\n",
    "# Now we plot the histogram of the samples and compare to the target pdf\n",
    "#-----------------------------------------------------------------------\n",
    "x = np.arange(a0,b0,0.01)\n",
    "\n",
    "plt.hist(a, bins='auto',normed=True,alpha=0.6)  # arguments are passed to np.histogram\n",
    "plt.plot(x,dist.eval_func(x),'-', linewidth=2)\n",
    "plt.title(\"Histogram with 'auto' bins\")\n",
    "plt.show()"
   ]
  },
  {
   "cell_type": "code",
   "execution_count": null,
   "metadata": {
    "collapsed": true
   },
   "outputs": [],
   "source": []
  }
 ],
 "metadata": {
  "anaconda-cloud": {},
  "kernelspec": {
   "display_name": "Python [default]",
   "language": "python",
   "name": "python3"
  },
  "language_info": {
   "codemirror_mode": {
    "name": "ipython",
    "version": 3
   },
   "file_extension": ".py",
   "mimetype": "text/x-python",
   "name": "python",
   "nbconvert_exporter": "python",
   "pygments_lexer": "ipython3",
   "version": "3.5.2"
  }
 },
 "nbformat": 4,
 "nbformat_minor": 1
}
